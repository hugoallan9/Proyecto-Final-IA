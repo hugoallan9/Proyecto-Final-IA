{
 "cells": [
  {
   "cell_type": "code",
   "execution_count": 86,
   "outputs": [],
   "source": [
    "import math\n",
    "\n",
    "import pandas as pd\n",
    "from sklearn.preprocessing import PolynomialFeatures\n",
    "from sklearn.linear_model import LinearRegression\n",
    "import numpy as np\n",
    "from sklearn.model_selection import cross_val_score\n",
    "import matplotlib.pyplot as plt\n",
    "import seaborn as sb\n",
    "import math"
   ],
   "metadata": {
    "collapsed": false,
    "pycharm": {
     "name": "#%%\n"
    }
   }
  },
  {
   "cell_type": "markdown",
   "metadata": {
    "collapsed": true,
    "pycharm": {
     "name": "#%% md\n"
    }
   },
   "source": [
    "Hugo Allan García Monterrosa\n",
    "\n",
    "Número de Matrícula 520462250\n"
   ]
  },
  {
   "cell_type": "markdown",
   "source": [
    "# Problema 1\n",
    "## A. Polinomio con mejor ajuste.\n",
    "Para encontrar el polinomio con mejor ajuste vamos a proceder a hacer 50 modelos\n",
    "polinomiales y usaremos como medida de ajuste el Residual Squared Sum (RSS) dado por\n",
    "\n",
    "$$ RSS = \\sum_{i=1} (y_i - f(x_i))^2$$\n",
    "\n",
    "El RSS es una buena medida de ajuste, ya que mide que tanto se alejan los datos observados\n",
    "de las predicciones realizadas por el modelo."
   ],
   "metadata": {
    "collapsed": false
   }
  },
  {
   "cell_type": "code",
   "execution_count": 113,
   "outputs": [
    {
     "data": {
      "text/plain": "<AxesSubplot:>"
     },
     "execution_count": 113,
     "metadata": {},
     "output_type": "execute_result"
    },
    {
     "data": {
      "text/plain": "<Figure size 432x288 with 1 Axes>",
      "image/png": "[encoded data removed]"
     },
     "metadata": {
      "needs_background": "light"
     },
     "output_type": "display_data"
    }
   ],
   "source": [
    "#Lectura del archivo CSV con los datos\n",
    "datos_p1 = pd.read_csv(\"../data/problem1.csv\")\n",
    "max_pol_degree = 50\n",
    "rss = []\n",
    "X_train, y_train, X_test, y_test = datos_p1[\"X_training\"],\\\n",
    "                   datos_p1[\"Y_training\"],\\\n",
    "                    datos_p1[\"X_test\"],\\\n",
    "                    datos_p1[\"Y_test\"]\n",
    "\n",
    "X_test.dropna(inplace=True)\n",
    "y_test.dropna(inplace=True)\n",
    "validaciones_cruzadas = []\n",
    "for i in range(1,max_pol_degree+1):\n",
    "    poly = PolynomialFeatures(i, include_bias=True)\n",
    "    poly_features = poly.fit_transform(np.array(X_train).reshape(-1, 1))\n",
    "    poly_features_test = poly.fit_transform(np.array(X_test).reshape(-1, 1))\n",
    "    polyreg = LinearRegression()\n",
    "    polyreg.fit(poly_features,y_train)\n",
    "    rss.append( np.sum(np.square( y_train - polyreg.predict( poly_features ) )))\n",
    "    validaciones_cruzadas.append(np.mean(cross_val_score(polyreg, poly_features_test, y_test, cv=5)))\n",
    "\n",
    "#Haciendo gráfica de los resultados de RSS\n",
    "sb.lineplot(x = range(1, max_pol_degree+1), y = rss)"
   ],
   "metadata": {
    "collapsed": false,
    "pycharm": {
     "name": "#%%\n"
    }
   }
  },
  {
   "cell_type": "code",
   "execution_count": 80,
   "outputs": [
    {
     "name": "stdout",
     "output_type": "stream",
     "text": [
      "El polinomio con el mejor ajuste es el de grado 38\n"
     ]
    }
   ],
   "source": [
    "#Imprimiendo el grado del polinomio con mejor ajuste\n",
    "print(\"El polinomio con el mejor ajuste es el de grado {}\".format(np.argmin(rss) + 1))\n"
   ],
   "metadata": {
    "collapsed": false,
    "pycharm": {
     "name": "#%%\n"
    }
   }
  },
  {
   "cell_type": "markdown",
   "source": [
    "## B. Criterio AIC.\n",
    "Calcularemos el AIC corregido utilizando las fórmulas\n",
    " $$ AIC = 2k -2\\log(L) $$\n",
    " $$ AICc = AIC + \\frac{2k(k+1)}{n-k-1} $$\n",
    " donde $k$ es el número de variables independientes en el modelo y $L$ es la medida de verosimulitud\n",
    " utilizada en el modelo, en este caso el MSS. Con esto calculamos los AIC y los graficamos, como\n",
    " sigue:"
   ],
   "metadata": {
    "collapsed": false
   }
  },
  {
   "cell_type": "code",
   "execution_count": 84,
   "outputs": [
    {
     "name": "stdout",
     "output_type": "stream",
     "text": [
      "[1.3348948821380149, 3.391113244144591, 6.420856189242491, 14.059867117661971, 16.059901081433786, 18.059914987038166, 20.060189426753176, 22.06520498841465, 24.066689817508202, 26.07029909149514, 28.07847036832469, 30.080301618326413, 32.08840702143433, 34.10857123061721, 36.11045196682129, 38.119386626789, 40.119431822430116, 42.12512587093608, 44.126727120270736, 46.126821782863466, 48.127255373636785, 50.12750584720219, 52.16519210355438, 54.16874039906295, 56.20057836623212, 58.19856999479959, 60.20107264866309, 62.176593321982004, 64.20628345832547, 66.22660680292266, 68.2316959476213, 70.22265396818356, 72.21703494316823, 74.14895995240545, 76.23344484312106, 78.25245475268946, 80.25588499395869, 82.27410216332423, 84.27407269346206, 86.27184655966009, 88.2286890686655, 90.24457730334535, 92.21551715604035, 94.20207051940355, 96.18699902924565, 98.12897684468236, 100.07197945472052, 101.05465748591594, 103.62029973319237, 103.7599151749636]\n"
     ]
    }
   ],
   "source": [
    "AIC = []\n",
    "n = len(X_train)\n",
    "for i in range(1, max_pol_degree +1):\n",
    "    AIC.append( 2*(i+1) - 2*np.log10(rss[i-1] / n ) + (2*(i+1)*(i+2)) / ( n - i -2) )"
   ],
   "metadata": {
    "collapsed": false,
    "pycharm": {
     "name": "#%%\n"
    }
   }
  },
  {
   "cell_type": "code",
   "execution_count": 85,
   "outputs": [
    {
     "name": "stdout",
     "output_type": "stream",
     "text": [
      "0\n"
     ]
    },
    {
     "data": {
      "text/plain": "<Figure size 432x288 with 1 Axes>",
      "image/png": "[encoded data removed]"
     },
     "metadata": {
      "needs_background": "light"
     },
     "output_type": "display_data"
    }
   ],
   "source": [
    "sb.lineplot(x = range(1, max_pol_degree+1), y = AIC)"
   ],
   "metadata": {
    "collapsed": false,
    "pycharm": {
     "name": "#%%\n"
    }
   }
  },
  {
   "cell_type": "markdown",
   "source": [
    "De la gráfica podemos observar que, siguiendo el criterio de minimización de AIC, deberíamos elegir el polinomio\n",
    "lineal.\n"
   ],
   "metadata": {
    "collapsed": false,
    "pycharm": {
     "name": "#%% md\n"
    }
   }
  },
  {
   "cell_type": "markdown",
   "source": [
    "## C. Validación Cruzada\n",
    "Ahora haremos validación cruzado con $k=5$ para encontrar el modelo que hace mejores predicciones. En este caso\n",
    "el mejor modelo será el que tenga el score más alto. "
   ],
   "metadata": {
    "collapsed": false
   }
  },
  {
   "cell_type": "code",
   "execution_count": 115,
   "outputs": [
    {
     "name": "stdout",
     "output_type": "stream",
     "text": [
      "[-17.380654173799105, 0.34588815807382983, 0.9984229305237502, 0.9152575552482171, 0.5403189464783656, 0.9560365076062369, -11.644916788900048, -316.57702479360285, -7763.134748324201, -5355.500529212967, -3587.7713508525985, -2347.686611408519, -1516.5689246997092, -979.0590163821835, -160.67055604005833, -368.8983880728205, -732.3081143699834, -1347.9753060021696, -2433.4434272692074, -4316.656477234099, -7522.326746216716, -12867.328274388414, -21603.499164440746, -35641.24609371644, -57826.86421017222, -92453.97596043505, -145732.30595155543, -226785.93373523388, -348529.4680111439, -529789.5676278444, -796104.1851852575, -1184216.7635974067, -1743150.3539805454, -2540504.1618811195, -3667051.8863131115, -5241703.516326347, -7422995.746823114, -10412929.900654059, -14476652.081948575, -19954133.728986464, -27258311.4274531, -36966859.88814646, -49753059.934483185, -967831.6771063259, -963612.1400689023, -732263.3488337577, -279197.2509914401, -16392.653531833308, -1549833.0673909385, -9502959.824939376]\n"
     ]
    },
    {
     "data": {
      "text/plain": "<AxesSubplot:>"
     },
     "execution_count": 115,
     "metadata": {},
     "output_type": "execute_result"
    },
    {
     "data": {
      "text/plain": "<Figure size 432x288 with 1 Axes>",
      "image/png": "[encoded data removed]"
     },
     "metadata": {
      "needs_background": "light"
     },
     "output_type": "display_data"
    }
   ],
   "source": [
    "print(validaciones_cruzadas)\n",
    "sb.lineplot(x = range(1, max_pol_degree+1), y = validaciones_cruzadas)"
   ],
   "metadata": {
    "collapsed": false,
    "pycharm": {
     "name": "#%%\n"
    }
   }
  },
  {
   "cell_type": "code",
   "execution_count": 127,
   "outputs": [
    {
     "name": "stdout",
     "output_type": "stream",
     "text": [
      "El mejor polinomio según la validación cruzada 3\n"
     ]
    }
   ],
   "source": [
    "print(\"El mejor polinomio según la validación cruzada {}\".format(np.argmax(validaciones_cruzadas) + 1))"
   ],
   "metadata": {
    "collapsed": false,
    "pycharm": {
     "name": "#%%\n"
    }
   }
  },
  {
   "cell_type": "code",
   "execution_count": 125,
   "outputs": [
    {
     "data": {
      "text/plain": "[<matplotlib.lines.Line2D at 0x14ebee2b0>]"
     },
     "execution_count": 125,
     "metadata": {},
     "output_type": "execute_result"
    },
    {
     "data": {
      "text/plain": "<Figure size 432x288 with 1 Axes>",
      "image/png": "[encoded data removed]"
     },
     "metadata": {
      "needs_background": "light"
     },
     "output_type": "display_data"
    }
   ],
   "source": [
    "poly = PolynomialFeatures(3, include_bias=True)\n",
    "poly_features = poly.fit_transform(np.array(X_train).reshape(-1, 1))\n",
    "poly_features_test = poly.fit_transform(np.array(X_test).reshape(-1, 1))\n",
    "polyreg = LinearRegression()\n",
    "polyreg.fit(poly_features,y_train)\n",
    "plt.plot(X_train, y_train, 'bs', label = \"Datos de entrenamiento\")\n",
    "plt.plot(X_train, polyreg.predict(poly_features), 'r', label = 'Valores predecidos')\n",
    "plt.plot(X_test, polyreg.predict(poly_features_test), 'r', label = 'Valores predecidos')"
   ],
   "metadata": {
    "collapsed": false,
    "pycharm": {
     "name": "#%%\n"
    }
   }
  },
  {
   "cell_type": "markdown",
   "source": [
    "De los calculos vemos que el modelo que presenta mejor rendimiento en la validación cruzada \n",
    "es el modelo cúbico. \n",
    "\n"
   ],
   "metadata": {
    "collapsed": false,
    "pycharm": {
     "name": "#%% md\n"
    }
   }
  }
 ],
 "metadata": {
  "kernelspec": {
   "display_name": "Python 3",
   "language": "python",
   "name": "python3"
  },
  "language_info": {
   "codemirror_mode": {
    "name": "ipython",
    "version": 2
   },
   "file_extension": ".py",
   "mimetype": "text/x-python",
   "name": "python",
   "nbconvert_exporter": "python",
   "pygments_lexer": "ipython2",
   "version": "2.7.6"
  }
 },
 "nbformat": 4,
 "nbformat_minor": 0
}