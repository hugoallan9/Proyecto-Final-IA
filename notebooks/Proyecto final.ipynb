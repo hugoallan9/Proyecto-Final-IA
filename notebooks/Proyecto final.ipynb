{
 "cells": [
  {
   "cell_type": "code",
   "execution_count": 96,
   "outputs": [],
   "source": [
    "import math\n",
    "\n",
    "import pandas as pd\n",
    "from sklearn.preprocessing import PolynomialFeatures\n",
    "from sklearn.linear_model import LinearRegression\n",
    "from sklearn.metrics import mean_squared_error\n",
    "import numpy as np\n",
    "from sklearn.model_selection import cross_val_score\n",
    "import matplotlib.pyplot as plt\n",
    "import seaborn as sb\n",
    "import math"
   ],
   "metadata": {
    "collapsed": false,
    "pycharm": {
     "name": "#%%\n"
    }
   }
  },
  {
   "cell_type": "markdown",
   "metadata": {
    "collapsed": true,
    "pycharm": {
     "name": "#%% md\n"
    }
   },
   "source": [
    "Hugo Allan García Monterrosa\n",
    "\n",
    "Número de Matrícula 520462250\n"
   ]
  },
  {
   "cell_type": "markdown",
   "source": [
    "# Problema 1\n",
    "## A. Polinomio con mejor ajuste.\n",
    "Para encontrar el polinomio con mejor ajuste vamos a proceder a hacer 50 modelos\n",
    "polinomiales y usaremos como medida de ajuste el Residual Squared Sum (RSS) dado por\n",
    "\n",
    "$$ RSS = \\sum_{i=1} (y_i - f(x_i))^2$$\n",
    "\n",
    "El RSS es una buena medida de ajuste, ya que mide que tanto se alejan los datos observados\n",
    "de las predicciones realizadas por el modelo."
   ],
   "metadata": {
    "collapsed": false
   }
  },
  {
   "cell_type": "code",
   "execution_count": 97,
   "outputs": [
    {
     "data": {
      "text/plain": "<AxesSubplot:>"
     },
     "execution_count": 97,
     "metadata": {},
     "output_type": "execute_result"
    },
    {
     "data": {
      "text/plain": "<Figure size 432x288 with 1 Axes>",
      "image/png": "[encoded data removed]"
     },
     "metadata": {
      "needs_background": "light"
     },
     "output_type": "display_data"
    }
   ],
   "source": [
    "#Lectura del archivo CSV con los datos\n",
    "datos_p1 = pd.read_csv(\"../data/problem1.csv\")\n",
    "max_pol_degree = 50\n",
    "rss = []\n",
    "X_train, y_train, X_test, y_test = datos_p1[\"X_training\"],\\\n",
    "                   datos_p1[\"Y_training\"],\\\n",
    "                    datos_p1[\"X_test\"],\\\n",
    "                    datos_p1[\"Y_test\"]\n",
    "\n",
    "X_test.dropna(inplace=True)\n",
    "y_test.dropna(inplace=True)\n",
    "\n",
    "for i in range(1,max_pol_degree+1):\n",
    "    poly = PolynomialFeatures(i, include_bias=True)\n",
    "    poly_features = poly.fit_transform(np.array(X_train).reshape(-1, 1))\n",
    "    poly_features_test = poly.fit_transform(np.array(X_test).reshape(-1, 1))\n",
    "    polyreg = LinearRegression()\n",
    "    polyreg.fit(poly_features,y_train)\n",
    "    rss.append( np.sum(np.square( y_train - polyreg.predict( poly_features ) )))\n",
    "\n",
    "#Haciendo gráfica de los resultados de RSS\n",
    "sb.lineplot(x = range(1, max_pol_degree+1), y = rss)"
   ],
   "metadata": {
    "collapsed": false,
    "pycharm": {
     "name": "#%%\n"
    }
   }
  },
  {
   "cell_type": "code",
   "execution_count": 98,
   "outputs": [
    {
     "name": "stdout",
     "output_type": "stream",
     "text": [
      "El polinomio con el mejor ajuste es el de grado 38\n"
     ]
    }
   ],
   "source": [
    "#Imprimiendo el grado del polinomio con mejor ajuste\n",
    "print(\"El polinomio con el mejor ajuste es el de grado {}\".format(np.argmin(rss) + 1))\n"
   ],
   "metadata": {
    "collapsed": false,
    "pycharm": {
     "name": "#%%\n"
    }
   }
  },
  {
   "cell_type": "markdown",
   "source": [
    "## B. Criterio AIC.\n",
    "Calcularemos el AIC corregido utilizando las fórmulas\n",
    " $$ AIC = 2k -2\\log(L) $$\n",
    " $$ AICc = AIC + \\frac{2k(k+1)}{n-k-1} $$\n",
    " donde $k$ es el número de variables independientes en el modelo y $L$ es la medida de verosimulitud\n",
    " utilizada en el modelo, en este caso el MSS. Con esto calculamos los AIC y los graficamos, como\n",
    " sigue:"
   ],
   "metadata": {
    "collapsed": false
   }
  },
  {
   "cell_type": "code",
   "execution_count": 99,
   "outputs": [],
   "source": [
    "AIC = []\n",
    "n = len(X_train)\n",
    "for i in range(1, max_pol_degree +1):\n",
    "    AIC.append( 2*(i+1) - 2*np.log10(rss[i-1] / n ) + (2*(i+1)*(i+2)) / ( n - i -2) )"
   ],
   "metadata": {
    "collapsed": false,
    "pycharm": {
     "name": "#%%\n"
    }
   }
  },
  {
   "cell_type": "code",
   "execution_count": 100,
   "outputs": [
    {
     "data": {
      "text/plain": "<AxesSubplot:>"
     },
     "execution_count": 100,
     "metadata": {},
     "output_type": "execute_result"
    },
    {
     "data": {
      "text/plain": "<Figure size 432x288 with 1 Axes>",
      "image/png": "[encoded data removed]"
     },
     "metadata": {
      "needs_background": "light"
     },
     "output_type": "display_data"
    }
   ],
   "source": [
    "sb.lineplot(x = range(1, max_pol_degree+1), y = AIC)"
   ],
   "metadata": {
    "collapsed": false,
    "pycharm": {
     "name": "#%%\n"
    }
   }
  },
  {
   "cell_type": "markdown",
   "source": [
    "De la gráfica podemos observar que, siguiendo el criterio de minimización de AIC, deberíamos elegir el polinomio\n",
    "lineal.\n"
   ],
   "metadata": {
    "collapsed": false,
    "pycharm": {
     "name": "#%% md\n"
    }
   }
  },
  {
   "cell_type": "markdown",
   "source": [
    "## C. Validación Cruzada\n",
    "Ahora haremos validación cruzado con los datos de test para encontrar el modelo que hace mejores predicciones. En este caso\n",
    "el mejor modelo será el que tenga el score más bajo."
   ],
   "metadata": {
    "collapsed": false
   }
  },
  {
   "cell_type": "code",
   "execution_count": 101,
   "outputs": [
    {
     "name": "stdout",
     "output_type": "stream",
     "text": [
      "El polinomio con menor score en la validación cruzada fue el de grado 6\n"
     ]
    }
   ],
   "source": [
    "valores = []\n",
    "for i in range(1,max_pol_degree+1):\n",
    "    poly = PolynomialFeatures(i, include_bias=True)\n",
    "    poly_features = poly.fit_transform(np.array(X_train).reshape(-1, 1))\n",
    "    poly_features_test = poly.fit_transform(np.array(X_test).reshape(-1, 1))\n",
    "    polyreg = LinearRegression()\n",
    "    polyreg.fit(poly_features,y_train)\n",
    "    mse = mean_squared_error(y_test, polyreg.predict(poly_features_test))\n",
    "    valores.append(mse)\n",
    "print(\"El polinomio con menor score en la validación cruzada fue el de grado {}\".format(np.argmin(valores) +1))"
   ],
   "metadata": {
    "collapsed": false,
    "pycharm": {
     "name": "#%%\n"
    }
   }
  },
  {
   "cell_type": "code",
   "execution_count": 102,
   "outputs": [
    {
     "data": {
      "text/plain": "[<matplotlib.lines.Line2D at 0x7f39322a5b20>]"
     },
     "execution_count": 102,
     "metadata": {},
     "output_type": "execute_result"
    },
    {
     "data": {
      "text/plain": "<Figure size 432x288 with 1 Axes>",
      "image/png": "[encoded data removed]"
     },
     "metadata": {
      "needs_background": "light"
     },
     "output_type": "display_data"
    }
   ],
   "source": [
    "poly = PolynomialFeatures(6, include_bias=True)\n",
    "poly_features = poly.fit_transform(np.array(X_train).reshape(-1, 1))\n",
    "poly_features_test = poly.fit_transform(np.array(X_test).reshape(-1, 1))\n",
    "polyreg = LinearRegression()\n",
    "polyreg.fit(poly_features,y_train)\n",
    "plt.plot(X_train, y_train, 'bs', label = \"Datos de entrenamiento\")\n",
    "plt.plot(X_test, y_test, 'rs', label = \"Datos de testing\")\n",
    "plt.plot(X_train, polyreg.predict(poly_features), 'r', label = 'Valores predecidos')\n",
    "plt.plot(X_test, polyreg.predict(poly_features_test), 'r', label = 'Valores predecidos')"
   ],
   "metadata": {
    "collapsed": false,
    "pycharm": {
     "name": "#%%\n"
    }
   }
  },
  {
   "cell_type": "code",
   "execution_count": 102,
   "outputs": [],
   "source": [],
   "metadata": {
    "collapsed": false,
    "pycharm": {
     "name": "#%%\n"
    }
   }
  },
  {
   "cell_type": "markdown",
   "source": [
    "En realidad, si hacemos validación cruzada desde la construcción del modelo, con 5 folds, obtenemos que el mejor modelo\n",
    "sería el de grado 4. Como se ve en las siguientes gráficas, en la primera vemos los scores para cada grado y en la segunda\n",
    "como se ajusta el polinomio a los valores de testing."
   ],
   "metadata": {
    "collapsed": false,
    "pycharm": {
     "name": "#%% md\n"
    }
   }
  },
  {
   "cell_type": "code",
   "execution_count": 103,
   "outputs": [
    {
     "data": {
      "text/plain": "Text(0.5, 1.0, 'MSE VS Grado')"
     },
     "execution_count": 103,
     "metadata": {},
     "output_type": "execute_result"
    },
    {
     "data": {
      "text/plain": "<Figure size 432x432 with 1 Axes>",
      "image/png": "[encoded data removed]"
     },
     "metadata": {
      "needs_background": "light"
     },
     "output_type": "display_data"
    }
   ],
   "source": [
    "from sklearn.metrics import mean_squared_error\n",
    "from sklearn.model_selection import cross_validate\n",
    "training_error=[]\n",
    "cross_validation_error=[]\n",
    "for d in range(1,max_pol_degree):\n",
    "    x_poly_train=PolynomialFeatures(degree=d).fit_transform(np.array(X_train).reshape(-1,1))\n",
    "    x_poly_test=PolynomialFeatures(degree=d).fit_transform(np.array(X_test).reshape(-1,1))\n",
    "    lr=LinearRegression(fit_intercept=False)\n",
    "    model = lr.fit(x_poly_train,y_train)\n",
    "    y_train_pred=model.predict(x_poly_train)\n",
    "    mse_train=mean_squared_error(y_train,y_train_pred)\n",
    "    cve=cross_validate(lr,x_poly_train,y_train,scoring='neg_mean_squared_error',cv=5,return_train_score=True)\n",
    "    training_error.append(mse_train)\n",
    "    cross_validation_error.append(np.mean(np.absolute(cve['test_score'])))\n",
    "fig,ax=plt.subplots(figsize=(6,6))\n",
    "ax.plot(range(1,max_pol_degree),cross_validation_error)\n",
    "ax.set_xlabel('Grado',fontsize=20)\n",
    "ax.set_ylabel('MSE',fontsize=20)\n",
    "ax.set_title('MSE VS Grado',fontsize=25)"
   ],
   "metadata": {
    "collapsed": false,
    "pycharm": {
     "name": "#%%\n"
    }
   }
  },
  {
   "cell_type": "code",
   "execution_count": 104,
   "outputs": [
    {
     "data": {
      "text/plain": "[<matplotlib.lines.Line2D at 0x7f393217e190>]"
     },
     "execution_count": 104,
     "metadata": {},
     "output_type": "execute_result"
    },
    {
     "data": {
      "text/plain": "<Figure size 432x288 with 1 Axes>",
      "image/png": "[encoded data removed]"
     },
     "metadata": {
      "needs_background": "light"
     },
     "output_type": "display_data"
    }
   ],
   "source": [
    "poly = PolynomialFeatures(4, include_bias=True)\n",
    "poly_features = poly.fit_transform(np.array(X_train).reshape(-1, 1))\n",
    "poly_features_test = poly.fit_transform(np.array(X_test).reshape(-1, 1))\n",
    "polyreg = LinearRegression()\n",
    "polyreg.fit(poly_features,y_train)\n",
    "plt.plot(X_train, y_train, 'bs', label = \"Datos de entrenamiento\")\n",
    "plt.plot(X_test, y_test, 'rs', label = \"Datos de testing\")\n",
    "plt.plot(X_train, polyreg.predict(poly_features), 'r', label = 'Valores predecidos')\n",
    "plt.plot(X_test, polyreg.predict(poly_features_test), 'r', label = 'Valores predecidos')"
   ],
   "metadata": {
    "collapsed": false,
    "pycharm": {
     "name": "#%%\n"
    }
   }
  },
  {
   "cell_type": "markdown",
   "source": [
    "# Problema 2\n"
   ],
   "metadata": {
    "collapsed": false
   }
  }
 ],
 "metadata": {
  "kernelspec": {
   "display_name": "Python 3",
   "language": "python",
   "name": "python3"
  },
  "language_info": {
   "codemirror_mode": {
    "name": "ipython",
    "version": 2
   },
   "file_extension": ".py",
   "mimetype": "text/x-python",
   "name": "python",
   "nbconvert_exporter": "python",
   "pygments_lexer": "ipython2",
   "version": "2.7.6"
  }
 },
 "nbformat": 4,
 "nbformat_minor": 0
}